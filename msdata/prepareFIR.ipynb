{
 "cells": [
  {
   "cell_type": "code",
   "execution_count": null,
   "metadata": {},
   "outputs": [],
   "source": [
    "import json\n",
    "import numpy as np\n",
    "\n",
    "firs = \"\"\n",
    "\n",
    "with open('fir.json', 'r') as f:\n",
    "    firs = json.load(f)\n",
    "\n",
    "# for every entry check NAME and coordinates of FIR\n",
    "for fir in firs['features']:\n",
    "    name = \"FIR\"+fir['properties']['name']\n",
    "    # extract all coordinates for\n",
    "    coords = fir['geometry']['coordinates'][0]\n",
    "    arr = np.array(coords)\n",
    "    arr.T[[0,1]] = arr.T[[1,0]]\n",
    "    c = np.round(arr.flatten(),4)\n",
    "    print(' '.join(map(str,c)))\n",
    "    print(name, end=' ')\n",
    "    # print(np.array2string(c)[1 : -1])\n",
    "    print(np.array2string(np.round(arr.flatten(),4))[1 : -1])\n",
    "\n",
    "# print(json.dumps(firs, indent=4, sort_keys=True))"
   ]
  },
  {
   "cell_type": "code",
   "execution_count": 1,
   "metadata": {},
   "outputs": [
    {
     "name": "stdout",
     "output_type": "stream",
     "text": [
      "[0, 2, 3, 4]\n"
     ]
    }
   ],
   "source": [
    "import rdp as RDP\n",
    "import numpy as np\n",
    "\n",
    "pos = np.array([\n",
    "    [1,1], \n",
    "\t[2,2],\n",
    "\t[3,3],\n",
    "\t[7,27],\n",
    "\t[10,10]\n",
    "\t])\n",
    "\n",
    "anchors = [0, len(pos)-1]\n",
    "\n",
    "RDP.simplify(pos, .1, anchors)\n",
    "\n",
    "print(anchors)"
   ]
  },
  {
   "cell_type": "code",
   "execution_count": 20,
   "metadata": {},
   "outputs": [
    {
     "name": "stdout",
     "output_type": "stream",
     "text": [
      "['id', 'time', 'altitude', 'longitude', 'latitude']\n"
     ]
    }
   ],
   "source": [
    "import rdp as RDP\n",
    "import lzma\n",
    "import pandas as pd\n",
    "import numpy as np\n",
    "from io import StringIO\n",
    "\n",
    "n = 0\n",
    "header = \"\"\n",
    "oldId = \"\"\n",
    "csv = \"\"\n",
    "\n",
    "df_simple_01 = \"\"\n",
    "df_simple_02 = \"\"\n",
    "df_simple_03 = \"\"\n",
    "\n",
    "\n",
    "with lzma.open(\"c:\\\\Users\\\\mschultz\\\\Downloads\\\\t_future_flas_360_ats_01.csv.xz\", mode='rt', encoding='utf-8') as file:\n",
    "    for line in file:\n",
    "        id = line.split(sep=\",\")[0]\n",
    "        if oldId != id:\n",
    "            if(n > 1):  # ignore header\n",
    "                print(header.split(sep=\",\"))\n",
    "                # print(csv)\n",
    "                csvStringIO = StringIO(csv)\n",
    "                df = pd.read_csv(csvStringIO, sep=\",\", header=None, names=header.split(sep=\",\"))\n",
    "                # print(df)\n",
    "                pos = df[['latitude','longitude']].to_numpy()\n",
    "                anchors = RDP.simplify(pos, .00001, [0, len(pos)-1])\n",
    "                df_simple_01 = df.loc[anchors]\n",
    "                anchors = RDP.simplify(pos, .1, [0, len(pos)-1])\n",
    "                df_simple_02 = df.loc[anchors]\n",
    "                break\n",
    "            elif(n == 0):\n",
    "                # add header without \\\\\\ at the end\n",
    "                header = str(line[:-1])\n",
    "            csv = \"\"\n",
    "            n += 1\n",
    "        csv += str(line)\n",
    "\n",
    "\n",
    "\n",
    "\n",
    "        oldId = id\n"
   ]
  },
  {
   "cell_type": "code",
   "execution_count": 21,
   "metadata": {},
   "outputs": [
    {
     "data": {
      "image/png": "[encoded data removed]",
      "text/plain": [
       "<Figure size 1080x504 with 1 Axes>"
      ]
     },
     "metadata": {
      "needs_background": "light"
     },
     "output_type": "display_data"
    }
   ],
   "source": [
    "import pandas as pd\n",
    "import seaborn as sns\n",
    "from matplotlib import pyplot as plt\n",
    "%matplotlib inline\n",
    "\n",
    "plt.figure(figsize=(15, 7))\n",
    "\n",
    "chart = sns.lineplot(\n",
    "    x=\"longitude\",\n",
    "    y=\"latitude\",\n",
    "    marker = '.',\n",
    "    linestyle='',\n",
    "    data=df_simple_01\n",
    ").set_title('Flight')\n",
    "\n",
    "chart = sns.lineplot(\n",
    "    x=\"longitude\",\n",
    "    y=\"latitude\",\n",
    "    marker = 'o',\n",
    "    linestyle='',\n",
    "    data=df_simple_02\n",
    ").set_title('Flight')\n",
    "\n",
    "plt.xlim(95,120)\n",
    "plt.ylim(-5,10)\n",
    "\n",
    "plt.show()"
   ]
  },
  {
   "cell_type": "code",
   "execution_count": 19,
   "metadata": {},
   "outputs": [
    {
     "data": {
      "text/html": [
       "<div>\n",
       "<style scoped>\n",
       "    .dataframe tbody tr th:only-of-type {\n",
       "        vertical-align: middle;\n",
       "    }\n",
       "\n",
       "    .dataframe tbody tr th {\n",
       "        vertical-align: top;\n",
       "    }\n",
       "\n",
       "    .dataframe thead th {\n",
       "        text-align: right;\n",
       "    }\n",
       "</style>\n",
       "<table border=\"1\" class=\"dataframe\">\n",
       "  <thead>\n",
       "    <tr style=\"text-align: right;\">\n",
       "      <th></th>\n",
       "      <th>id</th>\n",
       "      <th>time</th>\n",
       "      <th>altitude</th>\n",
       "      <th>longitude</th>\n",
       "      <th>latitude</th>\n",
       "    </tr>\n",
       "  </thead>\n",
       "  <tbody>\n",
       "    <tr>\n",
       "      <th>0</th>\n",
       "      <td>SIA37A</td>\n",
       "      <td>-57081</td>\n",
       "      <td>0</td>\n",
       "      <td>-118.40778</td>\n",
       "      <td>33.94250</td>\n",
       "    </tr>\n",
       "    <tr>\n",
       "      <th>2206</th>\n",
       "      <td>SIA37A</td>\n",
       "      <td>-54875</td>\n",
       "      <td>40000</td>\n",
       "      <td>-123.16971</td>\n",
       "      <td>36.03983</td>\n",
       "    </tr>\n",
       "    <tr>\n",
       "      <th>50985</th>\n",
       "      <td>SIA37A</td>\n",
       "      <td>-6096</td>\n",
       "      <td>39982</td>\n",
       "      <td>115.88247</td>\n",
       "      <td>8.96816</td>\n",
       "    </tr>\n",
       "    <tr>\n",
       "      <th>56754</th>\n",
       "      <td>SIA37A</td>\n",
       "      <td>-327</td>\n",
       "      <td>29798</td>\n",
       "      <td>105.57052</td>\n",
       "      <td>1.19662</td>\n",
       "    </tr>\n",
       "    <tr>\n",
       "      <th>57698</th>\n",
       "      <td>SIA37A</td>\n",
       "      <td>617</td>\n",
       "      <td>3736</td>\n",
       "      <td>104.00919</td>\n",
       "      <td>1.13169</td>\n",
       "    </tr>\n",
       "    <tr>\n",
       "      <th>57973</th>\n",
       "      <td>SIA37A</td>\n",
       "      <td>892</td>\n",
       "      <td>4</td>\n",
       "      <td>103.98917</td>\n",
       "      <td>1.35878</td>\n",
       "    </tr>\n",
       "  </tbody>\n",
       "</table>\n",
       "</div>"
      ],
      "text/plain": [
       "           id   time  altitude  longitude  latitude\n",
       "0      SIA37A -57081         0 -118.40778  33.94250\n",
       "2206   SIA37A -54875     40000 -123.16971  36.03983\n",
       "50985  SIA37A  -6096     39982  115.88247   8.96816\n",
       "56754  SIA37A   -327     29798  105.57052   1.19662\n",
       "57698  SIA37A    617      3736  104.00919   1.13169\n",
       "57973  SIA37A    892         4  103.98917   1.35878"
      ]
     },
     "execution_count": 19,
     "metadata": {},
     "output_type": "execute_result"
    }
   ],
   "source": [
    "df_simple_02"
   ]
  }
 ],
 "metadata": {
  "kernelspec": {
   "display_name": "Python 3.10.5 64-bit",
   "language": "python",
   "name": "python3"
  },
  "language_info": {
   "codemirror_mode": {
    "name": "ipython",
    "version": 3
   },
   "file_extension": ".py",
   "mimetype": "text/x-python",
   "name": "python",
   "nbconvert_exporter": "python",
   "pygments_lexer": "ipython3",
   "version": "3.10.5"
  },
  "orig_nbformat": 4,
  "vscode": {
   "interpreter": {
    "hash": "059fd84560a28733cba7f4633663721c982c5866ac12a8c16ee71935bec3c3e3"
   }
  }
 },
 "nbformat": 4,
 "nbformat_minor": 2
}
