{
 "cells": [
  {
   "cell_type": "code",
   "execution_count": null,
   "metadata": {},
   "outputs": [],
   "source": [
    "import json\n",
    "import numpy as np\n",
    "\n",
    "firs = \"\"\n",
    "\n",
    "with open('fir.json', 'r') as f:\n",
    "    firs = json.load(f)\n",
    "\n",
    "# for every entry check NAME and coordinates of FIR\n",
    "for fir in firs['features']:\n",
    "    name = \"FIR\"+fir['properties']['name']\n",
    "    # extract all coordinates for\n",
    "    coords = fir['geometry']['coordinates'][0]\n",
    "    arr = np.array(coords)\n",
    "    arr.T[[0,1]] = arr.T[[1,0]]\n",
    "    c = np.round(arr.flatten(),4)\n",
    "    print(' '.join(map(str,c)))\n",
    "    print(name, end=' ')\n",
    "    # print(np.array2string(c)[1 : -1])\n",
    "    print(np.array2string(np.round(arr.flatten(),4))[1 : -1])\n",
    "\n",
    "# print(json.dumps(firs, indent=4, sort_keys=True))"
   ]
  },
  {
   "cell_type": "code",
   "execution_count": 1,
   "metadata": {},
   "outputs": [
    {
     "name": "stdout",
     "output_type": "stream",
     "text": [
      "[0, 2, 3, 4]\n"
     ]
    }
   ],
   "source": [
    "import rdp as RDP\n",
    "import numpy as np\n",
    "\n",
    "pos = np.array([\n",
    "    [1,1], \n",
    "\t[2,2],\n",
    "\t[3,3],\n",
    "\t[7,27],\n",
    "\t[10,10]\n",
    "\t])\n",
    "\n",
    "anchors = [0, len(pos)-1]\n",
    "\n",
    "RDP.simplify(pos, .1, anchors)\n",
    "\n",
    "print(anchors)"
   ]
  },
  {
   "cell_type": "code",
   "execution_count": 81,
   "metadata": {},
   "outputs": [
    {
     "name": "stdout",
     "output_type": "stream",
     "text": [
      "['id', 'time', 'altitude', 'longitude', 'latitude']\n",
      "           id   time  altitude  longitude  latitude\n",
      "0      SIA37A -57081         0 -118.40778  33.94250\n",
      "2206   SIA37A -54875     40000 -123.16971  36.03983\n",
      "50985  SIA37A  -6096     39982  115.88247   8.96816\n",
      "56754  SIA37A   -327     29798  105.57052   1.19662\n",
      "57698  SIA37A    617      3736  104.00919   1.13169\n",
      "57973  SIA37A    892         4  103.98917   1.35878\n",
      "57974\n"
     ]
    }
   ],
   "source": [
    "import rdp as RDP\n",
    "import lzma\n",
    "import pandas as pd\n",
    "import numpy as np\n",
    "from io import StringIO\n",
    "\n",
    "n = 0\n",
    "header = \"\"\n",
    "oldId = \"\"\n",
    "csv = \"\"\n",
    "\n",
    "# id,time,altitude,longitude,latitude\n",
    "with lzma.open('c:\\\\Users\\\\mschultz\\\\Downloads\\\\t_future_flas_360_ats_01.csv.xz', mode='rt', encoding='utf-8') as file:\n",
    "    for line in file:\n",
    "        id = line.split(sep=\",\")[0]\n",
    "        if oldId != id:\n",
    "            if(n > 1):  # ignore header\n",
    "                print(header.split(sep=\",\"))\n",
    "                # print(csv)\n",
    "                csvStringIO = StringIO(csv)\n",
    "                df = pd.read_csv(csvStringIO, sep=\",\", header=None, names=header.split(sep=\",\"))\n",
    "                # print(df)\n",
    "                pos = df[['latitude','longitude']].to_numpy()\n",
    "                anchors = [0, len(pos)-1]\n",
    "                RDP.simplify(pos, .1, anchors)\n",
    "                print (df.loc[anchors])\n",
    "                break\n",
    "            elif(n == 0):\n",
    "                # add header without \"\\n\" at the end\n",
    "                header = str(line[:-1])\n",
    "            csv = \"\"\n",
    "            n += 1\n",
    "        csv += str(line)\n",
    "\n",
    "\n",
    "\n",
    "\n",
    "        oldId = id"
   ]
  }
 ],
 "metadata": {
  "kernelspec": {
   "display_name": "Python 3.10.5 64-bit",
   "language": "python",
   "name": "python3"
  },
  "language_info": {
   "name": "python",
   "version": "3.10.5"
  },
  "orig_nbformat": 4,
  "vscode": {
   "interpreter": {
    "hash": "059fd84560a28733cba7f4633663721c982c5866ac12a8c16ee71935bec3c3e3"
   }
  }
 },
 "nbformat": 4,
 "nbformat_minor": 2
}
