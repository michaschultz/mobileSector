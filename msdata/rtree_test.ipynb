{
 "cells": [
  {
   "cell_type": "code",
   "execution_count": 24,
   "metadata": {},
   "outputs": [
    {
     "name": "stdout",
     "output_type": "stream",
     "text": [
      "0\n",
      "0\n"
     ]
    }
   ],
   "source": [
    "import rtree\n",
    "\n",
    "\n",
    "# https://github.com/Toblerity/rtree/blob/master/docs/source/tutorial.txt\n",
    "from rtree import index\n",
    "idx = index.Index()\n",
    "\n",
    "# left, bottom, right, top = (0.0, 0.0, 1.0, 1.0)\n",
    "\n",
    "idx.insert(0, (0,0,10,10))\n",
    "idx.insert(0, (4,4,8,8))\n",
    "\n",
    "for id in idx.intersection(coordinates=(5,5)):\n",
    "    print (id)"
   ]
  },
  {
   "cell_type": "code",
   "execution_count": 34,
   "metadata": {},
   "outputs": [
    {
     "name": "stdout",
     "output_type": "stream",
     "text": [
      "([51, 51], [52, 52])  is in polygon:  [ True  True]\n"
     ]
    },
    {
     "ename": "TypeError",
     "evalue": "Path.intersects_path() missing 1 required positional argument: 'other'",
     "output_type": "error",
     "traceback": [
      "\u001b[1;31m---------------------------------------------------------------------------\u001b[0m",
      "\u001b[1;31mTypeError\u001b[0m                                 Traceback (most recent call last)",
      "\u001b[1;32mc:\\Users\\mschultz\\Documents\\GitHub\\bluesky\\plugins\\msdata\\rtree_test.ipynb Zelle 2\u001b[0m in \u001b[0;36m<cell line: 12>\u001b[1;34m()\u001b[0m\n\u001b[0;32m      <a href='vscode-notebook-cell:/c%3A/Users/mschultz/Documents/GitHub/bluesky/plugins/msdata/rtree_test.ipynb#W1sZmlsZQ%3D%3D?line=8'>9</a>\u001b[0m point \u001b[39m=\u001b[39m ([\u001b[39m51\u001b[39m, \u001b[39m51\u001b[39m],[\u001b[39m52\u001b[39m, \u001b[39m52\u001b[39m])\n\u001b[0;32m     <a href='vscode-notebook-cell:/c%3A/Users/mschultz/Documents/GitHub/bluesky/plugins/msdata/rtree_test.ipynb#W1sZmlsZQ%3D%3D?line=9'>10</a>\u001b[0m \u001b[39mprint\u001b[39m(point, \u001b[39m\"\u001b[39m\u001b[39m is in polygon: \u001b[39m\u001b[39m\"\u001b[39m, poly_path\u001b[39m.\u001b[39mcontains_points(point))\n\u001b[1;32m---> <a href='vscode-notebook-cell:/c%3A/Users/mschultz/Documents/GitHub/bluesky/plugins/msdata/rtree_test.ipynb#W1sZmlsZQ%3D%3D?line=11'>12</a>\u001b[0m \u001b[39mprint\u001b[39m(point, \u001b[39m\"\u001b[39m\u001b[39m is in polygon: \u001b[39m\u001b[39m\"\u001b[39m, poly_path\u001b[39m.\u001b[39;49mintersects_path())\n",
      "\u001b[1;31mTypeError\u001b[0m: Path.intersects_path() missing 1 required positional argument: 'other'"
     ]
    }
   ],
   "source": [
    "import matplotlib.path as mplPath\n",
    "import numpy as np\n",
    "\n",
    "poly = [190, 50, 500, 310]\n",
    "poly_path = mplPath.Path(np.array([ [50, 50],\n",
    "                                    [50, 100],\n",
    "                                    [100, 100],\n",
    "                                    [100, 50]]))\n",
    "point = ([51, 51],[52, 52])\n",
    "print(point, \" is in polygon: \", poly_path.contains_points(point))\n",
    "\n",
    "print(point, \" is in polygon: \", poly_path.intersects_path())"
   ]
  },
  {
   "cell_type": "code",
   "execution_count": 44,
   "metadata": {},
   "outputs": [
    {
     "name": "stdout",
     "output_type": "stream",
     "text": [
      "(0.0, 0.0, 50.0, 50.0)\n",
      "False\n",
      "True\n",
      "True\n",
      "True\n"
     ]
    }
   ],
   "source": [
    "# https://automating-gis-processes.github.io/CSC18/lessons/L4/point-in-polygon.html\n",
    "# https://www.matecdev.com/posts/point-in-polygon.html\n",
    "from shapely.geometry import Point, Polygon\n",
    "\n",
    "# Create Point objects\n",
    "p1 = Point(0,0)\n",
    "p2 = Point(10,10)\n",
    "\n",
    "# Create a Polygon\n",
    "coords = [(0,0), (50,0), (50,50), (50,0)]\n",
    "poly = Polygon(coords)\n",
    "\n",
    "print (poly.bounds)\n",
    "\n",
    "print(p1.within(poly))\n",
    "print(p2.within(poly))\n",
    "print(poly.intersects(p1))\n",
    "print(poly.intersects(p2))"
   ]
  },
  {
   "cell_type": "code",
   "execution_count": 13,
   "metadata": {},
   "outputs": [
    {
     "name": "stdout",
     "output_type": "stream",
     "text": [
      "POINT (0 0)\n",
      "POLYGON ((0 0, 0 10, 10 10, 10 0, 0 0))\n"
     ]
    },
    {
     "data": {
      "text/plain": [
       "[3, 4]"
      ]
     },
     "execution_count": 13,
     "metadata": {},
     "output_type": "execute_result"
    }
   ],
   "source": [
    "# https://pygeos.readthedocs.io/en/stable/strtree.html\n",
    "import pygeos as pg\n",
    "import numpy as np\n",
    "\n",
    "point_1 = pg.Geometry(\"POINT (0 0)\")\n",
    "geometry = pg.Geometry(\"POLYGON((0 0, 0 10, 10 10, 10 0, 0 0))\")\n",
    "\n",
    "print(point_1)\n",
    "print(geometry)\n",
    "\n",
    "# bring in all new positions\n",
    "tree = pg.STRtree(pg.points(np.arange(10), np.arange(10)))\n",
    "\n",
    "# Query geometries that overlap envelope of input geometries:\n",
    "\n",
    "# check for all shapes\n",
    "tree.query(pg.box(2.1, 2.1, 4, 4)).tolist()\n",
    "# [2, 3, 4]\n",
    "\n",
    "# # Query geometries that are contained by input geometry:\n",
    "\n",
    "# tree.query(pygeos.box(2, 2, 4, 4), predicate='contains').tolist()\n",
    "# # [3]\n",
    "\n",
    "# # Query geometries that overlap envelopes of ``geoms``\n",
    "# tree.query_bulk([pygeos.box(2, 2, 4, 4), pygeos.box(5, 5, 6, 6)]).tolist()\n",
    "# # [[0, 0, 0, 1, 1], [2, 3, 4, 5, 6]]\n",
    "\n",
    "# tree.nearest([pygeos.points(1,1), pygeos.points(3,5)]).tolist()  \n",
    "# # [[0, 1], [1, 4]]"
   ]
  },
  {
   "cell_type": "code",
   "execution_count": 100,
   "metadata": {},
   "outputs": [
    {
     "name": "stdout",
     "output_type": "stream",
     "text": [
      "[10. 50. 55. 20. 30.  0.]\n",
      "[ 0.  8. 40. 20. 50. 45.]\n"
     ]
    },
    {
     "data": {
      "text/plain": [
       "array([545440, 425011, 528405, ..., 631843, 436503, 942410], dtype=int64)"
      ]
     },
     "execution_count": 100,
     "metadata": {},
     "output_type": "execute_result"
    }
   ],
   "source": [
    "import numpy as np\n",
    "import pygeos as pg\n",
    "import geopandas as gp\n",
    "\n",
    "# https://gis.stackexchange.com/questions/353619/shapely-with-rtree-versus-strtree\n",
    "\n",
    "points = \"10 0 50 8 55 40 20 20 30 50 0 45\"\n",
    "\n",
    "p = np.fromstring(points, sep =\" \")\n",
    "\n",
    "x = p[0::2] # take every second value start by 0\n",
    "y = p[1::2] # take every second value start by 1\n",
    "\n",
    "print (x)\n",
    "print (y)\n",
    "\n",
    "pointList = np.random.randint(50, size=2*1000000)\n",
    "# pointList = [-1,-1,10,0]\n",
    "# print(pointList)\n",
    "\n",
    "# store points in tree\n",
    "tree = pg.STRtree(pg.points(pointList[0::2], pointList[1::2]))\n",
    "\n",
    "# geoms = pg.points()\n",
    "\n",
    "# pg.creation.polygons(pg.points(points))\n",
    "# poly = pg.polygons([[0, 0], [0, 10], [10, 10], [10, 0]])\n",
    "#  p.reshape(-1,2) # the unspecified value is inferred to len(p)/2\n",
    "coords = p.reshape(-1,2)\n",
    "poly = pg.polygons(coords)\n",
    "\n",
    "tree.query(poly)\n",
    "\n",
    "\n"
   ]
  }
 ],
 "metadata": {
  "kernelspec": {
   "display_name": "Python 3.10.4 ('atmri_caas')",
   "language": "python",
   "name": "python3"
  },
  "language_info": {
   "codemirror_mode": {
    "name": "ipython",
    "version": 3
   },
   "file_extension": ".py",
   "mimetype": "text/x-python",
   "name": "python",
   "nbconvert_exporter": "python",
   "pygments_lexer": "ipython3",
   "version": "3.10.4"
  },
  "orig_nbformat": 4,
  "vscode": {
   "interpreter": {
    "hash": "a861b5e286da2eb704c5031fe66bc5b3517834957d3a874c77b073f64d9309a2"
   }
  }
 },
 "nbformat": 4,
 "nbformat_minor": 2
}
