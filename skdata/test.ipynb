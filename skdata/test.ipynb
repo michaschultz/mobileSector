{
 "cells": [
  {
   "cell_type": "code",
   "execution_count": null,
   "metadata": {},
   "outputs": [],
   "source": [
    "# Reading data from data file\n",
    "import panda as pd\n",
    "data_as = pd.read_csv(\"data_airspace.csv\")\n",
    "\n",
    "from cmath import nan\n",
    "import numpy as np\n",
    "import statistics\n",
    "\n",
    "between_zero_to_five = 0\n",
    "between_five_to_ten = 0\n",
    "epsilon = 100"
   ]
  },
  {
   "cell_type": "code",
   "execution_count": null,
   "metadata": {},
   "outputs": [],
   "source": [
    "# Extracting trajectory data from columns of the data file to corresponding variables\n",
    "\n",
    "long_1 = data_as.loc[:,\"longitude_1\"]\n",
    "lat_1 = data_as.loc[:,\"latitude_1\"]\n",
    "alt_1 = data_as.loc[:,\"altitude_1\"]\n",
    "\n",
    "long_2 = data_as.loc[:,\"longitude_2\"]\n",
    "lat_2 = data_as.loc[:,\"latitude_2\"]\n",
    "alt_2 = data_as.loc[:,\"altitude_2\"]\n",
    "\n",
    "u_1 = data_as.loc[:,\"velocity_u_1\"]\n",
    "v_1 = data_as.loc[:,\"velocity_v_1\"]\n",
    "w_1 = data_as.loc[:,\"velocity_w_1\"]\n",
    "\n",
    "u_2 = data_as.loc[:,\"velocity_u_2\"]\n",
    "v_2 = data_as.loc[:,\"velocity_v_2\"]\n",
    "w_2 = data_as.loc[:,\"velocity_w_2\"]\n"
   ]
  },
  {
   "cell_type": "code",
   "execution_count": null,
   "metadata": {},
   "outputs": [],
   "source": [
    "# Extracting sector data from columns of the data file to corresponding variables\n",
    "\n",
    "x_sector = data_as.loc[:,\"coordinates_x\"]\n",
    "y_sector = data_as.loc[:,\"coordinates_y\"]\n",
    "z_sector = data_as.loc[:,\"floor_to_ceiling_height\"]\n"
   ]
  },
  {
   "cell_type": "code",
   "execution_count": null,
   "metadata": {},
   "outputs": [],
   "source": [
    "# 1_Number of A/C\n",
    "# we should enumerate number of columns which is = (total number of columns - 3 )/6  [3 is # the columns of sector info, and 6 is 3coordinates and 3 velocities for each A/C]\n",
    "\n",
    "No_aircraft = (len(data_as.columns) - 3)/6"
   ]
  },
  {
   "cell_type": "code",
   "execution_count": null,
   "metadata": {},
   "outputs": [],
   "source": [
    "# 2_Area and volume of the sector\n",
    "#  Shoelace formula because it is faster\n",
    "def PolyArea(x,y):\n",
    "    return 0.5*np.abs(np.dot(x,np.roll(y,1))-np.dot(y,np.roll(x,1)))\n",
    "\n",
    "area = PolyArea(x_sector,y_sector)\n",
    "volume = area * z_sector"
   ]
  },
  {
   "cell_type": "code",
   "execution_count": null,
   "metadata": {},
   "outputs": [],
   "source": [
    "# 3_A/C density: #A/C / Area of the sector\n",
    "\n",
    "density = No_aircraft / volume\n"
   ]
  },
  {
   "cell_type": "code",
   "execution_count": null,
   "metadata": {},
   "outputs": [],
   "source": [
    "# 4_ number of A/C with Heading Change greater than 15º\n",
    "# Achtung: zero in the denominator of slope[i]\n",
    "from math import pi\n",
    "\n",
    "def Heading_change(long,lat):\n",
    "    for i in range(len(long)-1):\n",
    "        delta_long[i]=long[i+1]-long[i]\n",
    "        delta_lat[i]=lat[i+1]-lat[i]\n",
    "        slope[i]=delta_lat[i]/delta_long[i]\n",
    "        arctan[i]=np.arctan( slope[i] )*180/pi\n",
    "        logical_atan[i]=arctan[i]>15\n",
    "\n",
    "    if '1' in logical_atan:\n",
    "        return 1\n",
    "    else:\n",
    "        return 0\n",
    "\n",
    "count_Headin_Change = Heading_change(long_1,lat_1) + Heading_change(long_2,lat_2)\n"
   ]
  },
  {
   "cell_type": "code",
   "execution_count": null,
   "metadata": {},
   "outputs": [],
   "source": [
    "# 5_ number of A/C with Altitude Change greater than 750 feet (i.e., 228.6 meter)\n",
    "\n",
    "def Altitude_Change(alt):\n",
    "    delta_alt[i] = alt[i+1] - alt[i]\n",
    "    logical_delta_alt[i] = delta_alt[i] > 228.6\n",
    "    if '1' in logical_delta_alt:\n",
    "        return 1\n",
    "    else:\n",
    "        return 0\n",
    "\n",
    "count_Altitude_Change =  Altitude_Change(alt_1) + Altitude_Change(alt_2)"
   ]
  },
  {
   "cell_type": "code",
   "execution_count": null,
   "metadata": {},
   "outputs": [],
   "source": [
    "# 6_ _ Number of intersecting flight paths i.e., number of A/C with 3D Euclidean distance lower than 'epsilon' meters\n",
    "# 7_ number of A/C with 3D Euclidean distance between 0-5 nautical miles (i.e., 0-9260 meters)\n",
    "# 8_ number of A/C with 3D Euclidean distance between 5-10 nautical (i.e., 9260-18520 meters)\n",
    "def distance(long1,lat1,alt1, long2,lat2,alt2):\n",
    "\n",
    "    if len(long1)>=len(long2):\n",
    "        for i in range(len(long1)-1):\n",
    "        diff_long[i] = long1[i]-long2[i]\n",
    "        diff_lat[i] = lat1[i]-lat2[i]\n",
    "        diff_alt[i] = alt1[i]-alt2[i]\n",
    "        dist[i] = (diff_long[i]^2 + diff_lat[i]^2 + diff_alt[i]^2)^0.5\n",
    "        logical_dist_epsilon[i] = dist[i] < epsilon\n",
    "        logical_dist_5nm[i] = dist[i]<9260\n",
    "        logical_dist_10nm[i] = dist[i]<18520\n",
    "    else:\n",
    "        for i in range(len(long2)-1):\n",
    "            diff_long[i] = long1[i]-long2[i]\n",
    "            diff_lat[i] = lat1[i]-lat2[i]\n",
    "            diff_alt[i] = alt1[i]-alt2[i]\n",
    "            dist[i] = (diff_long[i]^2 + diff_lat[i]^2 + diff_alt[i]^2)^0.5\n",
    "            logical_dist_epsilon[i] = dist[i] < epsilon\n",
    "            logical_dist_5nm[i] = dist[i]<9260\n",
    "            logical_dist_10nm[i] = dist[i]<18520\n",
    "\n",
    "    return sum(logical_dist_epsilon)\n",
    "\n",
    "\n",
    "Number_of_intersects = distance (long_1,lat_1,alt_1, long_2,lat_2,alt_2)  \n",
    "        \n",
    "\n",
    "if '1' in logical_dist_5nm:\n",
    "    between_zero_to_five = 1\n",
    "elif '1' in logical_dist_10nm:\n",
    "    between_five_to_ten = 1"
   ]
  },
  {
   "cell_type": "code",
   "execution_count": null,
   "metadata": {},
   "outputs": [],
   "source": [
    "# 9_ number of A/C with lateral distance between 40-70 nautical miles and vertical separation less than 2000/1000 feet above/below 29000 ft\n",
    "\n",
    "logical_diff_lat_1= abs(diff_lat)>40;\n",
    "logical_diff_lat_2= abs(diff_lat)>70;\n",
    "logical_diff_lat=logical_diff_lat_1.*logical_diff_lat_2;\n",
    "\n",
    "logical_diff_alt_2000=diff_alt<2000;\n",
    "logical_diff_alt_1000=diff_alt<1000;\n",
    "logical_alt_below_2900=alt<29000;\n",
    "logical_alt_above_2900=alt>29000;\n",
    "\n",
    "Logical_diff2000_and_above=logical_diff_alt_2000.*logical_alt_above_2900;\n",
    "Logical_diff1000_and_below=logical_diff_alt_1000.*logical_alt_below_2900;\n",
    "\n",
    "Logical_overall = np.multiply (logical_diff_lat , (Logical_diff2000_and_above + Logical_diff1000_and_below))\n",
    "\n",
    "counter=0;\n",
    "if sum(Logical_overall)>0\n",
    "             counter=counter+1;\n",
    "end\n",
    "\n",
    "\n",
    "logical_dist_1 = dist>9260\n",
    "logical_dist_2 = dist<18520\n",
    "logical_dist = np.multiply(logical_dist_1,logical_dist_2)\n",
    "\n",
    "if '1' in logical_dist:\n",
    "    return 1\n",
    "else:\n",
    "    return 0\n",
    "\n",
    "counter="
   ]
  },
  {
   "cell_type": "code",
   "execution_count": null,
   "metadata": {},
   "outputs": [],
   "source": [
    "# 10_ mean of all aircrafts' altitudes in the sector\n",
    "def ave_alt(alt1,alt2):\n",
    "    ave1 = statistics.mean(alt1)\n",
    "    ave2 = statistics.mean(alt2)\n",
    "    return statistics.mean(ave1,ave2)"
   ]
  },
  {
   "cell_type": "code",
   "execution_count": null,
   "metadata": {},
   "outputs": [],
   "source": [
    "# 11_ mean of variance of all aircrafts' altitudes in the sector\n",
    "def var_alt(alt1,alt2):\n",
    "    var1 = statistics.variance(alt1)\n",
    "    var2 = statistics.variance(alt2)\n",
    "    return statistics.mean(var1,var2)"
   ]
  },
  {
   "cell_type": "code",
   "execution_count": null,
   "metadata": {},
   "outputs": [],
   "source": [
    "# Task load number 1: average_transit_time\n",
    "\n",
    "def ave_tt(long):\n",
    "    ave_transit_time=len(long)\n",
    "    return ave_transit_time\n",
    "\n"
   ]
  },
  {
   "cell_type": "code",
   "execution_count": null,
   "metadata": {},
   "outputs": [],
   "source": [
    "# 2_Total controller's workload\n",
    "# the following parameters are borrowed from the following paper https://citeseerx.ist.psu.edu/viewdoc/download?doi=10.1.1.207.6706&rep=rep1&type=pdf\n",
    "tau_b= 2\n",
    "lambda_b= 0.05\n",
    "tau_t= 10\n",
    "tau_r= 3\n",
    "tau_c= 50\n",
    "P= 300\n",
    "M_h= 7*1852\n",
    "M_v= 1000*0.3048\n",
    "E_v12= 440*0.514444\n",
    "\n",
    "G = tau_b*lambda_b + tau_t*density*volume/ave_tt + tau_r*density*volume/P + tau_c*2*M_h*M_v*E_v12*density*(density*volume+1)\n",
    "\n"
   ]
  }
 ],
 "metadata": {
  "kernelspec": {
   "display_name": "Python 3.9.12 ('seyed')",
   "language": "python",
   "name": "python3"
  },
  "language_info": {
   "codemirror_mode": {
    "name": "ipython",
    "version": 3
   },
   "file_extension": ".py",
   "mimetype": "text/x-python",
   "name": "python",
   "nbconvert_exporter": "python",
   "pygments_lexer": "ipython3",
   "version": "3.9.12"
  },
  "orig_nbformat": 4,
  "vscode": {
   "interpreter": {
    "hash": "b4b0405374d9adb6162267d79e086f0d69a1ad52db0192e19215e785d93ddea5"
   }
  }
 },
 "nbformat": 4,
 "nbformat_minor": 2
}
