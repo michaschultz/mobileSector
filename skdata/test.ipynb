{
 "cells": [
  {
   "cell_type": "code",
   "execution_count": 4,
   "metadata": {},
   "outputs": [],
   "source": [
    "# Read the trajectories from the file \"trajectories.txt\":\n",
    "with open('trajectories.txt') as trajectories:\n",
    "    traj = trajectories.readlines()\n",
    "\n",
    "# Separate and put the longitude and latitude and altitude and the velocities in the corresponding variables:\n",
    "# long = traj...\n",
    "# lat = traj...\n",
    "# alt = traj...\n",
    "\n"
   ]
  },
  {
   "cell_type": "code",
   "execution_count": null,
   "metadata": {},
   "outputs": [],
   "source": [
    "# Read the velocities from the file \"readme.txt\":\n",
    "with open('readme.txt') as traj:\n",
    "    lines = traj.readlines()\n",
    "\n",
    "# Separate and put the longitude and latitude and altitude and the velocities in the corresponding variables:\n",
    "# long = traj...\n",
    "# lat = traj...\n",
    "# alt = traj..."
   ]
  },
  {
   "cell_type": "code",
   "execution_count": 23,
   "metadata": {},
   "outputs": [
    {
     "name": "stdout",
     "output_type": "stream",
     "text": [
      "4 8 b\n",
      "\n"
     ]
    }
   ],
   "source": [
    "print (traj[1])"
   ]
  }
 ],
 "metadata": {
  "kernelspec": {
   "display_name": "Python 3.9.12 ('seyed')",
   "language": "python",
   "name": "python3"
  },
  "language_info": {
   "codemirror_mode": {
    "name": "ipython",
    "version": 3
   },
   "file_extension": ".py",
   "mimetype": "text/x-python",
   "name": "python",
   "nbconvert_exporter": "python",
   "pygments_lexer": "ipython3",
   "version": "3.9.12"
  },
  "orig_nbformat": 4,
  "vscode": {
   "interpreter": {
    "hash": "b4b0405374d9adb6162267d79e086f0d69a1ad52db0192e19215e785d93ddea5"
   }
  }
 },
 "nbformat": 4,
 "nbformat_minor": 2
}
