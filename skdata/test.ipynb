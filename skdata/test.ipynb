{
 "cells": [
  {
   "cell_type": "code",
   "execution_count": null,
   "metadata": {},
   "outputs": [],
   "source": [
    "# Reading data from data file\n",
    "import panda as pd\n",
    "data_as = pd.read_csv(\"data_airspace.csv\")\n",
    "\n",
    "from cmath import nan\n",
    "import numpy as np"
   ]
  },
  {
   "cell_type": "code",
   "execution_count": null,
   "metadata": {},
   "outputs": [],
   "source": [
    "# Extracting trajectory data from columns of the data file to corresponding variables\n",
    "\n",
    "long_1 = data_as.loc[:,\"longitude_1\"]\n",
    "lat_1 = data_as.loc[:,\"latitude_1\"]\n",
    "alt_1 = data_as.loc[:,\"altitude_1\"]\n",
    "\n",
    "long_2 = data_as.loc[:,\"longitude_2\"]\n",
    "lat_2 = data_as.loc[:,\"latitude_2\"]\n",
    "alt_2 = data_as.loc[:,\"altitude_2\"]\n",
    "\n",
    "u_1 = data_as.loc[:,\"velocity_u_1\"]\n",
    "v_1 = data_as.loc[:,\"velocity_v_1\"]\n",
    "w_1 = data_as.loc[:,\"velocity_w_1\"]\n",
    "\n",
    "u_2 = data_as.loc[:,\"velocity_u_2\"]\n",
    "v_2 = data_as.loc[:,\"velocity_v_2\"]\n",
    "w_2 = data_as.loc[:,\"velocity_w_2\"]\n"
   ]
  },
  {
   "cell_type": "code",
   "execution_count": null,
   "metadata": {},
   "outputs": [],
   "source": [
    "# Extracting sector data from columns of the data file to corresponding variables\n",
    "\n",
    "x_sector = data_as.loc[:,\"coordinates_x\"]\n",
    "y_sector = data_as.loc[:,\"coordinates_y\"]\n",
    "z_sector = data_as.loc[:,\"floor_to_ceiling_height\"]\n"
   ]
  },
  {
   "cell_type": "code",
   "execution_count": null,
   "metadata": {},
   "outputs": [],
   "source": [
    "import numpy as np\n",
    "\n",
    "# 1_Number of A/C\n",
    "# we should enumerate number of columns and then divide it by 6\n",
    "No_A/C = data_as.columns"
   ]
  },
  {
   "cell_type": "code",
   "execution_count": null,
   "metadata": {},
   "outputs": [],
   "source": [
    "# 3_Area and volume of the sector\n",
    "#  Shoelace formula because it is faster\n",
    "def PolyArea(x,y):\n",
    "    return 0.5*np.abs(np.dot(x,np.roll(y,1))-np.dot(y,np.roll(x,1)))\n",
    "\n",
    "area = PolyArea(x_sector,y_sector)\n",
    "volume = area * z_sector"
   ]
  },
  {
   "cell_type": "code",
   "execution_count": null,
   "metadata": {},
   "outputs": [],
   "source": [
    "# 4_A/C density: #A/C / Area of the sector\n",
    "\n",
    "density = No_A/C/volume\n"
   ]
  },
  {
   "cell_type": "code",
   "execution_count": null,
   "metadata": {},
   "outputs": [],
   "source": [
    "# 5_ number of A/C with Heading Change greater than 15º\n",
    "# Achtung: zero in the denominator of slope[i]\n",
    "from math import pi\n",
    "\n",
    "def Heading_change(long,lat):\n",
    "    for i in range(len(long)-1):\n",
    "        delta_long[i]=long[i+1]-long[i]\n",
    "        delta_lat[i]=lat[i+1]-lat[i]\n",
    "        slope[i]=delta_lat[i]/delta_long[i]\n",
    "        arctan[i]=np.arctan( slope[i] )*180/pi\n",
    "        logical_atan[i]=arctan[i]>15\n",
    "\n",
    "    if '1' in logical_atan\n",
    "        return 1\n",
    "    else:\n",
    "        return 0\n",
    "\n",
    "count_Headin_Change = Heading_change(long_1,lat_1) + Heading_change(long_2,lat_2)\n"
   ]
  },
  {
   "cell_type": "code",
   "execution_count": null,
   "metadata": {},
   "outputs": [],
   "source": [
    "# 6_ number of A/C with Altitude Change greater than 750 feet (i.e., 228.6 meter)\n",
    "\n",
    "def Altitude_Change(alt):\n",
    "    delta_alt[i]=alt[i+1]-alt[i]\n",
    "    logical_delta_alt[i]=delta_alt[i]>228.6\n",
    "    if '1' in logical_delta_alt:\n",
    "        return 1\n",
    "    else:\n",
    "        return 0\n",
    "\n",
    "count_Altitude_Change =  Altitude_Change(alt_1) + Altitude_Change(alt_2)"
   ]
  },
  {
   "cell_type": "code",
   "execution_count": null,
   "metadata": {},
   "outputs": [],
   "source": [
    "# 7_ number of A/C with 3D Euclidean distance between 0-5 nautical miles (i.e., 0-9260 meters)\n",
    "\n",
    "def distance(long1,lat1,alt1, long2,lat2,alt2):\n",
    "\n",
    "    for i in range(len(long)-1):\n",
    "\n",
    "        diff_long[i] = long1[i]-long2[i]\n",
    "        diff_lat[i] = lat1[i]-lat2[i]\n",
    "        diff_alt[i] = alt1[i]-alt2[i]\n",
    "\n",
    "        dist[i]=(diff_long[i]^2 + diff_lat[i]^2 + diff_alt[i]^2)^0.5\n",
    "        logical_dist[i]=dist[i]<9260\n",
    "\n",
    "    if '1' in logical_dist:\n",
    "        return 1\n",
    "    else:\n",
    "        return 0\n",
    "\n",
    "\n",
    "count_distance_5nm = distance (long_1,lat_1,alt_1, long_2,lat_2,alt_2)"
   ]
  },
  {
   "cell_type": "code",
   "execution_count": null,
   "metadata": {},
   "outputs": [],
   "source": []
  },
  {
   "cell_type": "code",
   "execution_count": null,
   "metadata": {},
   "outputs": [],
   "source": [
    "# Task load number 1: average_transit_time\n",
    "\n",
    "def ave_tt(long):\n",
    "    ave_transit_time=len(long)\n",
    "    return ave_transit_time\n",
    "\n"
   ]
  },
  {
   "cell_type": "code",
   "execution_count": null,
   "metadata": {},
   "outputs": [],
   "source": [
    "\n",
    "# 2_Total controller's workload\n",
    "tau_b=2\n",
    "lambda_b=0.05\n",
    "tau_t=10\n",
    "tau_r=3\n",
    "tau_c=50\n",
    "P=300\n",
    "M_h=7\n",
    "M_v=1.64579\n",
    "E_v12=440*0.000277778\n",
    "\n",
    "G= tau_b*lambda_b + tau_t*density*volume/ave_tt + tau_r*density*volume/P + tau_c*2*M_h*M_v*E_v12*density*(density*volume+1)\n",
    "\n"
   ]
  }
 ],
 "metadata": {
  "kernelspec": {
   "display_name": "Python 3.9.12 ('seyed')",
   "language": "python",
   "name": "python3"
  },
  "language_info": {
   "codemirror_mode": {
    "name": "ipython",
    "version": 3
   },
   "file_extension": ".py",
   "mimetype": "text/x-python",
   "name": "python",
   "nbconvert_exporter": "python",
   "pygments_lexer": "ipython3",
   "version": "3.9.12"
  },
  "orig_nbformat": 4,
  "vscode": {
   "interpreter": {
    "hash": "b4b0405374d9adb6162267d79e086f0d69a1ad52db0192e19215e785d93ddea5"
   }
  }
 },
 "nbformat": 4,
 "nbformat_minor": 2
}
