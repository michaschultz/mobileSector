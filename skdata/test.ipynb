{
 "cells": [
  {
   "cell_type": "code",
   "execution_count": null,
   "metadata": {},
   "outputs": [],
   "source": [
    "# Reading data from data file\n",
    "#import panda as pd\n",
    "#data_as = pd.read_csv(\"data_airspace.csv\")\n",
    "\n",
    "from cmath import nan\n",
    "import numpy as np\n",
    "import statistics\n",
    "\n",
    "between_zero_to_five = 0\n",
    "between_five_to_ten = 0\n",
    "epsilon = 100"
   ]
  },
  {
   "cell_type": "markdown",
   "metadata": {},
   "source": [
    "Extracting trajectory data from columns of the data file to corresponding variables\n",
    "\n",
    "long_1 = data_as.loc[:,\"longitude_1\"]\n",
    "lat_1 = data_as.loc[:,\"latitude_1\"]\n",
    "alt_1 = data_as.loc[:,\"altitude_1\"]\n",
    "\n",
    "long_2 = data_as.loc[:,\"longitude_2\"]\n",
    "lat_2 = data_as.loc[:,\"latitude_2\"]\n",
    "alt_2 = data_as.loc[:,\"altitude_2\"]\n",
    "\n",
    "u_1 = data_as.loc[:,\"velocity_u_1\"]\n",
    "v_1 = data_as.loc[:,\"velocity_v_1\"]\n",
    "w_1 = data_as.loc[:,\"velocity_w_1\"]\n",
    "\n",
    "u_2 = data_as.loc[:,\"velocity_u_2\"]\n",
    "v_2 = data_as.loc[:,\"velocity_v_2\"]\n",
    "w_2 = data_as.loc[:,\"velocity_w_2\"]\n"
   ]
  },
  {
   "cell_type": "code",
   "execution_count": null,
   "metadata": {},
   "outputs": [],
   "source": [
    "long_1 = np.array([0, 6,  4,  8, 8, 10, 14, 10, 14,  4, 4, 6, 9, 15])*10**3\n",
    "lat_1 =  np.array([4, 6, 10, 11, 7,  6, 10, 10,  6,  0, 3, 4, 3,  6 ])*10**3\n",
    "alt_1 = np.array([5, 6,  4,  8, 8, 10, 14, 10, 14,  4, 4, 6, 9, 15] )*10**3\n",
    "\n",
    "long_2 = np.array([0, 9,  8,  8, 8, 10, 4, 10, 24,  7, 4, 16, 9, 5])*10**3\n",
    "lat_2 = np.array([10, 16, 1, 6, 8,  6, 1, 4,  16,  10, 5, 4, 13,  6])*10**3\n",
    "alt_2 = np.array([ 5, 9,  8,  8, 8, 10, 4, 10, 24,  7, 4, 16, 9, 5])*10**3\n",
    "\n"
   ]
  },
  {
   "cell_type": "markdown",
   "metadata": {},
   "source": [
    "Extracting sector data from columns of the data file to corresponding variables\n",
    "\n",
    "x_sector = data_as.loc[:,\"coordinates_x\"]\n",
    "y_sector = data_as.loc[:,\"coordinates_y\"]\n",
    "z_sector = data_as.loc[:,\"floor_to_ceiling_height\"]\n"
   ]
  },
  {
   "cell_type": "code",
   "execution_count": null,
   "metadata": {},
   "outputs": [],
   "source": [
    "x=2.1*10**5\n",
    "y=2.1*10**5\n",
    "x_sector = np.array([0, x, 0])\n",
    "y_sector = np.array([0, 0, y])\n",
    "z_sector = 3048\n"
   ]
  },
  {
   "cell_type": "code",
   "execution_count": null,
   "metadata": {},
   "outputs": [],
   "source": [
    "# 1_Number of A/C\n",
    "# we should enumerate number of columns which is = (total number of columns - 3 )/6  [3 is # the columns of sector info, and 6 is 3coordinates and 3 velocities for each A/C]\n",
    "\n",
    "#No_aircraft = (len(data_as.columns) - 3)/6\n",
    "No_aircraft = 2"
   ]
  },
  {
   "cell_type": "code",
   "execution_count": null,
   "metadata": {},
   "outputs": [],
   "source": [
    "# 2_Area and volume of the sector\n",
    "#  Shoelace formula because it is faster\n",
    "#def PolyArea(x,y):\n",
    " #   return 0.5*np.abs(np.dot(x,np.roll(y,1))-np.dot(y,np.roll(x,1)))\n",
    "#area = PolyArea(x_sector,y_sector)\n",
    "area = x*y/2\n",
    "volume = area * z_sector"
   ]
  },
  {
   "cell_type": "code",
   "execution_count": null,
   "metadata": {},
   "outputs": [],
   "source": [
    "# 3_A/C density: #A/C / Area of the sector\n",
    "\n",
    "density = No_aircraft / volume\n"
   ]
  },
  {
   "cell_type": "code",
   "execution_count": null,
   "metadata": {},
   "outputs": [],
   "source": [
    "# 4_ number of A/C with Heading Change greater than 15º\n",
    "# Achtung: zero in the denominator of slope[i]\n",
    "from math import pi\n",
    "\n",
    "def Heading_change(long,lat):\n",
    "\n",
    "        delta_long= np.diff(long)+0.00001\n",
    "        delta_lat=np.diff(lat)\n",
    "       \n",
    "        if sum(np.arctan( np.divide(delta_lat,delta_long) )*180/pi > 15)>0:\n",
    "                return 1\n",
    "        else:\n",
    "                return 0\n",
    "\n",
    "\n",
    "count_Heading_Change = Heading_change(long_1 , lat_1) + Heading_change(long_2 , lat_2)\n"
   ]
  },
  {
   "cell_type": "code",
   "execution_count": null,
   "metadata": {},
   "outputs": [],
   "source": [
    "# 5_ number of A/C with Altitude Change greater than 750 feet (i.e., 228.6 meter)\n",
    "\n",
    "def Altitude_Change(alt):\n",
    "    delta_alt = np.diff(alt)\n",
    "   \n",
    "    if sum(delta_alt > 228.6)>0:\n",
    "        return 1\n",
    "    else:\n",
    "        return 0\n",
    "\n",
    "count_Altitude_Change =  Altitude_Change(alt_1) + Altitude_Change(alt_2)"
   ]
  },
  {
   "cell_type": "code",
   "execution_count": null,
   "metadata": {},
   "outputs": [],
   "source": [
    "# 6_ _ Number of intersecting flight paths i.e., number of A/C with 3D Euclidean distance lower than 'epsilon' meters\n",
    "# 7_ number of A/C with 3D Euclidean distance between 0-5 nautical miles (i.e., 0-9260 meters)\n",
    "# 8_ number of A/C with 3D Euclidean distance between 5-10 nautical (i.e., 9260-18520 meters)\n",
    "diff_long=[]\n",
    "diff_lat=[]\n",
    "diff_alt=[]\n",
    "dist=[]\n",
    "logical_dist_epsilon=[]\n",
    "logical_dist_5nm = []\n",
    "logical_dist_10nm=[]\n",
    "count_sum_logical_dist_epsilon = 0\n",
    "def distance(long1,lat1,alt1, long2,lat2,alt2):\n",
    "\n",
    "        if len(long1)>=len(long2):\n",
    "            for i in range(len(long1)):\n",
    "                diff_long = long1[i]-long2[i]\n",
    "                diff_lat = lat1[i]-lat2[i]\n",
    "                diff_alt = alt1[i]-alt2[i]\n",
    "                dist = ((diff_long)**2 + (diff_lat)**2 + (diff_alt)**2)**0.5\n",
    "                logical_dist_epsilon = dist < epsilon\n",
    "                print ('logical_dist_epsilon=',logical_dist_epsilon)\n",
    "                if (dist<9260):\n",
    "                    print ('logical_dist_5nm=1')\n",
    "                elif (dist<18520):\n",
    "                    print ('logical_dist_10nm = 1')\n",
    "\n",
    "            \n",
    "        else:\n",
    "            for i in range(len(long2)):\n",
    "                diff_long = long1[i]-long2[i]\n",
    "                diff_lat = lat1[i]-lat2[i]\n",
    "                diff_alt = alt1[i]-alt2[i]\n",
    "                dist = ((diff_long)**2 + (diff_lat)**2 + (diff_alt)**2)**0.5\n",
    "                logical_dist_epsilon = dist < epsilon\n",
    "                print ('logical_dist_epsilon=',logical_dist_epsilon)\n",
    "                if (dist<9260):\n",
    "                    print ('logical_dist_5nm=1')\n",
    "                elif (dist<18520):\n",
    "                    print ('logical_dist_10nm = 1')\n",
    "        \n",
    "           \n",
    "distance(long_1,lat_1,alt_1, long_2,lat_2,alt_2)\n",
    "\n",
    "        \n",
    "\n",
    "#if sum(dist<9260)>0:\n",
    " #   between_zero_to_five = 1\n",
    "#elif sum(logical_dist_10nm)>0:\n",
    " #   between_five_to_ten = 1"
   ]
  },
  {
   "cell_type": "markdown",
   "metadata": {},
   "source": [
    "9_ number of A/C with lateral distance between 40-70 nautical miles and vertical separation less than 2000/1000 feet above/below 29000 ft\n",
    "\n",
    "logical_diff_lat_1= abs(diff_lat)>40;\n",
    "logical_diff_lat_2= abs(diff_lat)>70;\n",
    "logical_diff_lat=logical_diff_lat_1.*logical_diff_lat_2;\n",
    "\n",
    "logical_diff_alt_2000=diff_alt<2000;\n",
    "logical_diff_alt_1000=diff_alt<1000;\n",
    "logical_alt_below_2900=alt<29000;\n",
    "logical_alt_above_2900=alt>29000;\n",
    "\n",
    "Logical_diff2000_and_above=logical_diff_alt_2000.*logical_alt_above_2900;\n",
    "Logical_diff1000_and_below=logical_diff_alt_1000.*logical_alt_below_2900;\n",
    "\n",
    "Logical_overall = np.multiply (logical_diff_lat , (Logical_diff2000_and_above + Logical_diff1000_and_below))\n",
    "\n",
    "counter=0;\n",
    "if sum(Logical_overall)>0\n",
    "             counter=counter+1;\n",
    "end\n",
    "\n",
    "\n",
    "logical_dist_1 = dist>9260\n",
    "logical_dist_2 = dist<18520\n",
    "logical_dist = np.multiply(logical_dist_1,logical_dist_2)\n",
    "\n",
    "if '1' in logical_dist:\n",
    "    return 1\n",
    "else:\n",
    "    return 0\n"
   ]
  },
  {
   "cell_type": "code",
   "execution_count": null,
   "metadata": {},
   "outputs": [],
   "source": [
    "# 10_ mean of all aircrafts' altitudes in the sector\n",
    "def ave_alt(alt1,alt2):\n",
    "    ave1 = statistics.mean(alt1)\n",
    "    ave2 = statistics.mean(alt2)\n",
    "    return (ave1 + ave2)/2\n",
    "\n",
    "ave_alt(alt_1,alt_2)"
   ]
  },
  {
   "cell_type": "markdown",
   "metadata": {},
   "source": [
    "11_ mean of variance of all aircrafts' altitudes in the sector\n",
    "def var_alt(alt1,alt2):\n",
    "    var1 = statistics.variance(alt1)\n",
    "    var2 = statistics.variance(alt2)\n",
    "    return (var1 + var2)/2\n",
    "\n",
    "var_alt(alt_1,alt_2)"
   ]
  },
  {
   "cell_type": "code",
   "execution_count": null,
   "metadata": {},
   "outputs": [],
   "source": [
    "# Task load number 1: average_transit_time\n",
    "\n",
    "def ave_tt(long1,long2):\n",
    "    ave_transit_time1=len(long1)\n",
    "    ave_transit_time2=len(long2)\n",
    "    ave_transit_time = (ave_transit_time1 + ave_transit_time2)/2\n",
    "    return ave_transit_time\n",
    "\n",
    "ave_tt(long_1,long_2)"
   ]
  },
  {
   "cell_type": "code",
   "execution_count": null,
   "metadata": {},
   "outputs": [],
   "source": [
    "# 2_Total controller's workload\n",
    "# the following parameters are borrowed from the following paper https://citeseerx.ist.psu.edu/viewdoc/download?doi=10.1.1.207.6706&rep=rep1&type=pdf\n",
    "tau_b= 2\n",
    "lambda_b= 0.05\n",
    "tau_t= 10\n",
    "tau_r= 3\n",
    "tau_c= 50\n",
    "P= 300\n",
    "M_h= 7*1852\n",
    "M_v= 1000*0.3048\n",
    "E_v12= 440*0.514444\n",
    "\n",
    "G = tau_b*lambda_b + tau_t*density*volume/ave_tt(long_1,long_2) + tau_r*density*volume/P + tau_c*2*M_h*M_v*E_v12*density*(density*volume+1)\n",
    "\n",
    "print ('Workload = ', G)"
   ]
  },
  {
   "cell_type": "code",
   "execution_count": null,
   "metadata": {},
   "outputs": [],
   "source": [
    "print ('volume = ',volume*1.57*(10**-10), 'nm')"
   ]
  },
  {
   "cell_type": "code",
   "execution_count": null,
   "metadata": {},
   "outputs": [],
   "source": [
    "from bluesky import core, stack, traf, scr , settings, navdb, sim, tools\n",
    "\n",
    "num_ac = traf.ntraf\n",
    "print(num_ac)"
   ]
  },
  {
   "cell_type": "code",
   "execution_count": 6,
   "metadata": {},
   "outputs": [
    {
     "ename": "AttributeError",
     "evalue": "'Voronoi' object has no attribute 'simplex'",
     "output_type": "error",
     "traceback": [
      "\u001b[1;31m---------------------------------------------------------------------------\u001b[0m",
      "\u001b[1;31mAttributeError\u001b[0m                            Traceback (most recent call last)",
      "\u001b[1;32mc:\\Users\\Khaki\\Documents\\GitHub\\bluesky\\plugins\\skdata\\test.ipynb Cell 19\u001b[0m in \u001b[0;36m<cell line: 28>\u001b[1;34m()\u001b[0m\n\u001b[0;32m     <a href='vscode-notebook-cell:/c%3A/Users/Khaki/Documents/GitHub/bluesky/plugins/skdata/test.ipynb#X24sZmlsZQ%3D%3D?line=24'>25</a>\u001b[0m centers \u001b[39m=\u001b[39m [ [Clat1, Clon1],[Clat2, Clon2], [Clat3, Clon3], [Clat4, Clon4],[Clat5, Clon5], [Clat6, Clon6], [Clat7, Clon7], [Clat8, Clon8], [Clat9, Clon9],[Clat10, Clon10],[Clat11, Clon11]]\n\u001b[0;32m     <a href='vscode-notebook-cell:/c%3A/Users/Khaki/Documents/GitHub/bluesky/plugins/skdata/test.ipynb#X24sZmlsZQ%3D%3D?line=26'>27</a>\u001b[0m vor \u001b[39m=\u001b[39m Voronoi(centers)\n\u001b[1;32m---> <a href='vscode-notebook-cell:/c%3A/Users/Khaki/Documents/GitHub/bluesky/plugins/skdata/test.ipynb#X24sZmlsZQ%3D%3D?line=27'>28</a>\u001b[0m \u001b[39mprint\u001b[39m(vor\u001b[39m.\u001b[39;49msimplex)\n",
      "\u001b[1;31mAttributeError\u001b[0m: 'Voronoi' object has no attribute 'simplex'"
     ]
    }
   ],
   "source": [
    "import numpy as np\n",
    "from scipy.spatial import Voronoi, voronoi_plot_2d\n",
    "Clat1= 18.405098\n",
    "Clon1= 98.871728\n",
    "Clat2= 17.405098\n",
    "Clon2= 97.871728\n",
    "Clat3= 13.213485\n",
    "Clon3= 107.705434\n",
    "Clat4= 0.88282\n",
    "Clon4= 97.749317\n",
    "Clat5= -5.424946\n",
    "Clon5=  105.420423\n",
    "Clat6=  -8.517786\n",
    "Clon6=  117.57994\n",
    "Clat7=  0.10961\n",
    "Clon7=  113.336353\n",
    "Clat8=  0.80143\n",
    "Clon8=  124.516582\n",
    "Clat9= 11.300808\n",
    "Clon9= 123.570896\n",
    "Clat10=  -2.698363\n",
    "Clon10=  133.370998\n",
    "Clat11= 7.434758\n",
    "Clon11= 134.635915\n",
    "centers = [ [Clat1, Clon1],[Clat2, Clon2], [Clat3, Clon3], [Clat4, Clon4],[Clat5, Clon5], [Clat6, Clon6], [Clat7, Clon7], [Clat8, Clon8], [Clat9, Clon9],[Clat10, Clon10],[Clat11, Clon11]]\n",
    "\n",
    "vor = Voronoi(centers)\n",
    "print()\n",
    "\n"
   ]
  },
  {
   "cell_type": "code",
   "execution_count": null,
   "metadata": {},
   "outputs": [],
   "source": []
  },
  {
   "cell_type": "code",
   "execution_count": null,
   "metadata": {},
   "outputs": [],
   "source": []
  },
  {
   "cell_type": "code",
   "execution_count": null,
   "metadata": {},
   "outputs": [],
   "source": [
    "\n"
   ]
  },
  {
   "cell_type": "code",
   "execution_count": 73,
   "metadata": {},
   "outputs": [
    {
     "data": {
      "image/png": "[encoded data removed]",
      "text/plain": [
       "<Figure size 432x288 with 1 Axes>"
      ]
     },
     "metadata": {
      "needs_background": "light"
     },
     "output_type": "display_data"
    },
    {
     "data": {
      "text/plain": [
       "26"
      ]
     },
     "execution_count": 73,
     "metadata": {},
     "output_type": "execute_result"
    }
   ],
   "source": [
    "import numpy as np\n",
    "import matplotlib.pyplot as plt\n",
    "rng = np.random.default_rng()\n",
    "points = rng.random((10,2))\n",
    "\n",
    "from scipy.spatial import Voronoi, voronoi_plot_2d\n",
    "vor = Voronoi(points)\n",
    "\n",
    "\n",
    "\n",
    "np.size(vor.vertices)\n"
   ]
  },
  {
   "cell_type": "code",
   "execution_count": 76,
   "metadata": {},
   "outputs": [],
   "source": [
    "while 0:\n",
    "    print (3)"
   ]
  }
 ],
 "metadata": {
  "kernelspec": {
   "display_name": "Python 3.9.12 ('seyed')",
   "language": "python",
   "name": "python3"
  },
  "language_info": {
   "codemirror_mode": {
    "name": "ipython",
    "version": 3
   },
   "file_extension": ".py",
   "mimetype": "text/x-python",
   "name": "python",
   "nbconvert_exporter": "python",
   "pygments_lexer": "ipython3",
   "version": "3.9.12"
  },
  "orig_nbformat": 4,
  "vscode": {
   "interpreter": {
    "hash": "b4b0405374d9adb6162267d79e086f0d69a1ad52db0192e19215e785d93ddea5"
   }
  }
 },
 "nbformat": 4,
 "nbformat_minor": 2
}
