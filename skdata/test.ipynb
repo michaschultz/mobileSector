{
 "cells": [
  {
   "cell_type": "code",
   "execution_count": null,
   "metadata": {},
   "outputs": [],
   "source": [
    "# Reading data from data file\n",
    "import panda as pd\n",
    "data_as = pd.read_csv(\"data_airspace.csv\")\n"
   ]
  },
  {
   "cell_type": "code",
   "execution_count": null,
   "metadata": {},
   "outputs": [],
   "source": [
    "# Extracting trajectory data from columns of the data file to corresponding variables\n",
    "\n",
    "long_1 = data_as.loc[:,\"longitude_1\"]\n",
    "lat_1 = data_as.loc[:,\"latitude_1\"]\n",
    "alt_1 = data_as.loc[:,\"altitude_1\"]\n",
    "\n",
    "long_2 = data_as.loc[:,\"longitude_2\"]\n",
    "lat_2 = data_as.loc[:,\"latitude_2\"]\n",
    "alt_2 = data_as.loc[:,\"altitude_2\"]\n",
    "\n",
    "u_1 = data_as.loc[:,\"velocity_u_1\"]\n",
    "v_1 = data_as.loc[:,\"velocity_v_1\"]\n",
    "w_1 = data_as.loc[:,\"velocity_w_1\"]\n",
    "\n",
    "u_2 = data_as.loc[:,\"velocity_u_2\"]\n",
    "v_2 = data_as.loc[:,\"velocity_v_2\"]\n",
    "w_2 = data_as.loc[:,\"velocity_w_2\"]\n"
   ]
  },
  {
   "cell_type": "code",
   "execution_count": null,
   "metadata": {},
   "outputs": [],
   "source": [
    "# Extracting sector data from columns of the data file to corresponding variables\n",
    "\n",
    "x_sector = data_as.loc[:,\"coordinates_x\"]\n",
    "y_sector = data_as.loc[:,\"coordinates_y\"]\n",
    "z_sector = data_as.loc[:,\"floor_to_ceiling_height\"]\n"
   ]
  },
  {
   "cell_type": "code",
   "execution_count": null,
   "metadata": {},
   "outputs": [],
   "source": [
    "import numpy as np\n",
    "\n",
    "# 1_Number of A/C\n",
    "# we should enumerate number of columns / 6\n",
    "No_A/C = data_as.columns"
   ]
  },
  {
   "cell_type": "code",
   "execution_count": null,
   "metadata": {},
   "outputs": [],
   "source": [
    "# 3_Area and volume of the sector\n",
    "#  Shoelace formula because it is faster\n",
    "def PolyArea(x,y):\n",
    "    return 0.5*np.abs(np.dot(x,np.roll(y,1))-np.dot(y,np.roll(x,1)))\n",
    "\n",
    "area = PolyArea(x_sector,y_sector)\n",
    "volume = area*z_sector"
   ]
  },
  {
   "cell_type": "code",
   "execution_count": null,
   "metadata": {},
   "outputs": [],
   "source": [
    "# 4_A/C density: #A/C / Area of the sector\n",
    "\n",
    "density = No_A/C/volume\n"
   ]
  },
  {
   "cell_type": "code",
   "execution_count": null,
   "metadata": {},
   "outputs": [],
   "source": [
    "# 5_ number of A/C with Heading Change greater than 15º\n",
    "# Achtung: zero in the denominator of slope[i]\n",
    "from math import pi\n",
    "\n",
    "def Heading_change(long,lat):\n",
    "    for i in range(1,(len(long)-1)):\n",
    "        delta_long[i]=long[i+1]-long[i]\n",
    "        delta_lat[i]=lat[i+1]-lat[i]\n",
    "        slope[i]=delta_lat[i]/delta_long[i]\n",
    "        arctan[i]=np.arctan( slope[i] )*180/pi\n",
    "        logical_atan[i]=arctan[i]>15\n",
    "\n",
    "    if '1' in logical_atan\n",
    "        return 1\n",
    "    else:\n",
    "        return 0\n",
    "\n",
    "count_Headin_Change = Heading_change(long_1,lat_1) + Heading_change(long_2,lat_2)\n"
   ]
  },
  {
   "cell_type": "code",
   "execution_count": null,
   "metadata": {},
   "outputs": [],
   "source": [
    "# 6_ number of A/C with Altitude Change greater than 750 feet (i.e., 228.6 meter)\n",
    "\n",
    "def Altitude_Change(alt):\n",
    "    delta_alt[i]=alt[i+1]-alt[i]\n",
    "    logical_delta_alt[i]=delta_alt[i]>228.6\n",
    "    if '1' in logical_delta_alt:\n",
    "        return 1\n",
    "    else:\n",
    "        return 0\n",
    "\n",
    "count_Altitude_Change =  Altitude_Change(alt_1) + Altitude_Change(alt_2)"
   ]
  },
  {
   "cell_type": "code",
   "execution_count": null,
   "metadata": {},
   "outputs": [],
   "source": [
    "# 7_ number of A/C with 3D Euclidean distance between 0-5 nautical miles (i.e., 0-9260 meters)\n",
    "\n",
    "def distance(long1,lat1,alt1, long2,lat2,alt2):\n",
    "\n",
    "\n",
    "diff_long = long1(1,i)-long2\n",
    "diff_lat(i)=lat(1,i)-lat(2,i);\n",
    "diff_alt(i)=lat(1,i)-lat(2,i);\n",
    "dist(i)=(diff_lat(i)^2 + diff_long(i)^2 + diff_alt(i)^2)^0.5;\n",
    "logical_dist(i)=dist(i)<5;\n",
    "end\n",
    "\n",
    "counter=0;\n",
    "    if sum(logical_dist)>0\n",
    "        counter=counter+1;\n",
    "    end \n",
    "disp (\"#A/C with 3-D Euclidean distance between 0-5 nautical miles:\")\n",
    "disp (counter)\n",
    "disp (\"pair\")\n"
   ]
  },
  {
   "cell_type": "code",
   "execution_count": null,
   "metadata": {},
   "outputs": [],
   "source": [
    "# Task load number 1: average_transit_time\n",
    "\n",
    "def average_tt(long)\n",
    "    return len(long)\n",
    "\n"
   ]
  },
  {
   "cell_type": "code",
   "execution_count": 23,
   "metadata": {},
   "outputs": [
    {
     "data": {
      "text/plain": [
       "5"
      ]
     },
     "execution_count": 23,
     "metadata": {},
     "output_type": "execute_result"
    }
   ],
   "source": [
    "len(c)"
   ]
  },
  {
   "cell_type": "code",
   "execution_count": 26,
   "metadata": {},
   "outputs": [
    {
     "data": {
      "text/plain": [
       "4"
      ]
     },
     "execution_count": 26,
     "metadata": {},
     "output_type": "execute_result"
    }
   ],
   "source": [
    "w=b>1\n",
    "w+w*3"
   ]
  },
  {
   "cell_type": "code",
   "execution_count": 30,
   "metadata": {},
   "outputs": [
    {
     "data": {
      "text/plain": [
       "[1, 2, 3, 5, 6, 7, 8, 9]"
      ]
     },
     "execution_count": 30,
     "metadata": {},
     "output_type": "execute_result"
    }
   ],
   "source": [
    "q=[5,6,7,8,9]\n",
    "\n",
    "q+a\n",
    "a+q"
   ]
  },
  {
   "cell_type": "markdown",
   "metadata": {},
   "source": [
    "hello"
   ]
  }
 ],
 "metadata": {
  "kernelspec": {
   "display_name": "Python 3.9.12 ('seyed')",
   "language": "python",
   "name": "python3"
  },
  "language_info": {
   "codemirror_mode": {
    "name": "ipython",
    "version": 3
   },
   "file_extension": ".py",
   "mimetype": "text/x-python",
   "name": "python",
   "nbconvert_exporter": "python",
   "pygments_lexer": "ipython3",
   "version": "3.9.12"
  },
  "orig_nbformat": 4,
  "vscode": {
   "interpreter": {
    "hash": "b4b0405374d9adb6162267d79e086f0d69a1ad52db0192e19215e785d93ddea5"
   }
  }
 },
 "nbformat": 4,
 "nbformat_minor": 2
}
