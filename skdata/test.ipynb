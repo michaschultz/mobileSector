{
 "cells": [
  {
   "cell_type": "code",
   "execution_count": null,
   "metadata": {},
   "outputs": [],
   "source": [
    "# Reading data from data file\n",
    "import panda as pd\n",
    "data_as = pd.read_csv(\"data_airspace.csv\")\n"
   ]
  },
  {
   "cell_type": "code",
   "execution_count": null,
   "metadata": {},
   "outputs": [],
   "source": [
    "# Extracting trajectory data from columns of the data file to corresponding variables\n",
    "\n",
    "long_1 = data_as.loc[:,\"longitude_1\"]\n",
    "lat_1 = data_as.loc[:,\"latitude_1\"]\n",
    "alt_1 = data_as.loc[:,\"altitude_1\"]\n",
    "\n",
    "long_2 = data_as.loc[:,\"longitude_2\"]\n",
    "lat_2 = data_as.loc[:,\"latitude_2\"]\n",
    "alt_2 = data_as.loc[:,\"altitude_2\"]\n",
    "\n",
    "u_1 = data_as.loc[:,\"velocity_u_1\"]\n",
    "v_1 = data_as.loc[:,\"velocity_v_1\"]\n",
    "w_1 = data_as.loc[:,\"velocity_w_1\"]\n",
    "\n",
    "u_2 = data_as.loc[:,\"velocity_u_2\"]\n",
    "v_2 = data_as.loc[:,\"velocity_v_2\"]\n",
    "w_2 = data_as.loc[:,\"velocity_w_2\"]\n"
   ]
  },
  {
   "cell_type": "code",
   "execution_count": null,
   "metadata": {},
   "outputs": [],
   "source": [
    "# Extracting sector data from columns of the data file to corresponding variables\n",
    "\n",
    "x = data_as.loc[:,\"coordinates_x\"]\n",
    "y = data_as.loc[:,\"coordinates_y\"]\n",
    "z = data_as.loc[:,\"floor_to_ceiling_height\"]\n"
   ]
  },
  {
   "cell_type": "code",
   "execution_count": null,
   "metadata": {},
   "outputs": [],
   "source": [
    "import numpy as np\n",
    "\n",
    "# 1_Number of A/C\n",
    "# should enumerate number of columns / 6\n",
    "No_A/C = data_as.columns"
   ]
  },
  {
   "cell_type": "code",
   "execution_count": null,
   "metadata": {},
   "outputs": [],
   "source": [
    "# 1_average_transit_time\n",
    "\n",
    "import numpy as np\n",
    "\n",
    "tt_1 = np.array(long_1) \n",
    "ave_tt_1 = tt_1.size\n",
    "print(ave_tt_1)\n",
    "\n",
    "tt_2 = np.array(long_2) \n",
    "ave_tt_1 = tt_2.size\n",
    "print(ave_tt_2)"
   ]
  }
 ],
 "metadata": {
  "kernelspec": {
   "display_name": "Python 3.9.12 ('seyed')",
   "language": "python",
   "name": "python3"
  },
  "language_info": {
   "codemirror_mode": {
    "name": "ipython",
    "version": 3
   },
   "file_extension": ".py",
   "mimetype": "text/x-python",
   "name": "python",
   "nbconvert_exporter": "python",
   "pygments_lexer": "ipython3",
   "version": "3.9.12"
  },
  "orig_nbformat": 4,
  "vscode": {
   "interpreter": {
    "hash": "b4b0405374d9adb6162267d79e086f0d69a1ad52db0192e19215e785d93ddea5"
   }
  }
 },
 "nbformat": 4,
 "nbformat_minor": 2
}
