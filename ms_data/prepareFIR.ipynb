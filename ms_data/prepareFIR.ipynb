{
 "cells": [
  {
   "cell_type": "code",
   "execution_count": 59,
   "metadata": {},
   "outputs": [
    {
     "ename": "TypeError",
     "evalue": "str() takes at most 3 arguments (270 given)",
     "output_type": "error",
     "traceback": [
      "\u001b[1;31m---------------------------------------------------------------------------\u001b[0m",
      "\u001b[1;31mTypeError\u001b[0m                                 Traceback (most recent call last)",
      "\u001b[1;32mc:\\Users\\mschultz\\Documents\\GitHub\\bluesky\\plugins\\ms_data\\prepareFIR.ipynb Zelle 1\u001b[0m in \u001b[0;36m<cell line: 10>\u001b[1;34m()\u001b[0m\n\u001b[0;32m     <a href='vscode-notebook-cell:/c%3A/Users/mschultz/Documents/GitHub/bluesky/plugins/ms_data/prepareFIR.ipynb#ch0000000?line=13'>14</a>\u001b[0m arr \u001b[39m=\u001b[39m np\u001b[39m.\u001b[39marray(coords)\n\u001b[0;32m     <a href='vscode-notebook-cell:/c%3A/Users/mschultz/Documents/GitHub/bluesky/plugins/ms_data/prepareFIR.ipynb#ch0000000?line=14'>15</a>\u001b[0m arr\u001b[39m.\u001b[39mT[[\u001b[39m0\u001b[39m,\u001b[39m1\u001b[39m]] \u001b[39m=\u001b[39m arr\u001b[39m.\u001b[39mT[[\u001b[39m1\u001b[39m,\u001b[39m0\u001b[39m]]\n\u001b[1;32m---> <a href='vscode-notebook-cell:/c%3A/Users/mschultz/Documents/GitHub/bluesky/plugins/ms_data/prepareFIR.ipynb#ch0000000?line=15'>16</a>\u001b[0m \u001b[39mprint\u001b[39m(name \u001b[39m+\u001b[39m \u001b[39m\"\u001b[39m\u001b[39m \u001b[39m\u001b[39m\"\u001b[39m \u001b[39m+\u001b[39m \u001b[39mstr\u001b[39;49m(\u001b[39m*\u001b[39;49mnp\u001b[39m.\u001b[39;49mround(arr\u001b[39m.\u001b[39;49mflatten(),\u001b[39m4\u001b[39;49m)))\n",
      "\u001b[1;31mTypeError\u001b[0m: str() takes at most 3 arguments (270 given)"
     ]
    }
   ],
   "source": [
    "import json\n",
    "import numpy as np\n",
    "\n",
    "firs = \"\"\n",
    "\n",
    "with open('fir.json', 'r') as f:\n",
    "    firs = json.load(f)\n",
    "\n",
    "# for every entry check NAME and coordinates of FIR\n",
    "for fir in firs['features']:\n",
    "    name = \"FIR\"+fir['properties']['name']\n",
    "    # extract all coordinates for\n",
    "    coords = fir['geometry']['coordinates'][0]\n",
    "    arr = np.array(coords)\n",
    "    arr.T[[0,1]] = arr.T[[1,0]]\n",
    "    c = *np.round(arr.flatten(),4)\n",
    "    print(name + \" \" + c)\n",
    "\n",
    "# print(json.dumps(firs, indent=4, sort_keys=True))"
   ]
  }
 ],
 "metadata": {
  "language_info": {
   "name": "python"
  },
  "orig_nbformat": 4
 },
 "nbformat": 4,
 "nbformat_minor": 2
}
