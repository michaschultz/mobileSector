{
 "cells": [
  {
   "cell_type": "code",
   "execution_count": null,
   "metadata": {},
   "outputs": [],
   "source": [
    "import json\n",
    "import numpy as np\n",
    "\n",
    "firs = \"\"\n",
    "\n",
    "with open('fir.json', 'r') as f:\n",
    "    firs = json.load(f)\n",
    "\n",
    "# for every entry check NAME and coordinates of FIR\n",
    "for fir in firs['features']:\n",
    "    name = \"FIR\"+fir['properties']['name']\n",
    "    # extract all coordinates for\n",
    "    coords = fir['geometry']['coordinates'][0]\n",
    "    arr = np.array(coords)\n",
    "    arr.T[[0,1]] = arr.T[[1,0]]\n",
    "    c = np.round(arr.flatten(),4)\n",
    "    print(' '.join(map(str,c)))\n",
    "    print(name, end=' ')\n",
    "    # print(np.array2string(c)[1 : -1])\n",
    "    print(np.array2string(np.round(arr.flatten(),4))[1 : -1])\n",
    "\n",
    "# print(json.dumps(firs, indent=4, sort_keys=True))"
   ]
  },
  {
   "cell_type": "code",
   "execution_count": 1,
   "metadata": {},
   "outputs": [
    {
     "name": "stdout",
     "output_type": "stream",
     "text": [
      "[0, 2, 3, 4]\n"
     ]
    }
   ],
   "source": [
    "import rdp as RDP\n",
    "import numpy as np\n",
    "\n",
    "pos = np.array([\n",
    "    [1,1], \n",
    "\t[2,2],\n",
    "\t[3,3],\n",
    "\t[7,27],\n",
    "\t[10,10]\n",
    "\t])\n",
    "\n",
    "anchors = [0, len(pos)-1]\n",
    "\n",
    "RDP.simplify(pos, .1, anchors)\n",
    "\n",
    "print(anchors)"
   ]
  }
 ],
 "metadata": {
  "kernelspec": {
   "display_name": "Python 3.10.5 64-bit",
   "language": "python",
   "name": "python3"
  },
  "language_info": {
   "name": "python",
   "version": "3.10.5"
  },
  "orig_nbformat": 4,
  "vscode": {
   "interpreter": {
    "hash": "059fd84560a28733cba7f4633663721c982c5866ac12a8c16ee71935bec3c3e3"
   }
  }
 },
 "nbformat": 4,
 "nbformat_minor": 2
}
